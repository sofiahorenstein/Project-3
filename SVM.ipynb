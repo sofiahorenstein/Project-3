{
 "cells": [
  {
   "cell_type": "code",
   "execution_count": 1,
   "metadata": {},
   "outputs": [],
   "source": [
    "import pandas as pd \n",
    "import numpy as np \n",
    "import matplotlib.pyplot as plt\n",
    "import seaborn as sns\n",
    "import math\n",
    "%matplotlib inline"
   ]
  },
  {
   "cell_type": "code",
   "execution_count": 2,
   "metadata": {
    "scrolled": true
   },
   "outputs": [
    {
     "data": {
      "text/html": [
       "<div>\n",
       "<style scoped>\n",
       "    .dataframe tbody tr th:only-of-type {\n",
       "        vertical-align: middle;\n",
       "    }\n",
       "\n",
       "    .dataframe tbody tr th {\n",
       "        vertical-align: top;\n",
       "    }\n",
       "\n",
       "    .dataframe thead th {\n",
       "        text-align: right;\n",
       "    }\n",
       "</style>\n",
       "<table border=\"1\" class=\"dataframe\">\n",
       "  <thead>\n",
       "    <tr style=\"text-align: right;\">\n",
       "      <th></th>\n",
       "      <th>Unnamed: 0</th>\n",
       "      <th>Unnamed: 0.1</th>\n",
       "      <th>Unnamed: 0.1.1</th>\n",
       "      <th>track</th>\n",
       "      <th>artist</th>\n",
       "      <th>popularity</th>\n",
       "      <th>id</th>\n",
       "      <th>acousticness</th>\n",
       "      <th>danceability</th>\n",
       "      <th>duration_ms</th>\n",
       "      <th>...</th>\n",
       "      <th>instrumentalness</th>\n",
       "      <th>key</th>\n",
       "      <th>liveness</th>\n",
       "      <th>loudness</th>\n",
       "      <th>mode</th>\n",
       "      <th>speechiness</th>\n",
       "      <th>tempo</th>\n",
       "      <th>time_signature</th>\n",
       "      <th>valence</th>\n",
       "      <th>top_song</th>\n",
       "    </tr>\n",
       "  </thead>\n",
       "  <tbody>\n",
       "    <tr>\n",
       "      <th>0</th>\n",
       "      <td>0</td>\n",
       "      <td>0</td>\n",
       "      <td>0</td>\n",
       "      <td>Carol of the Bells</td>\n",
       "      <td>Mykola Dmytrovych Leontovych</td>\n",
       "      <td>79</td>\n",
       "      <td>4tHqQMWSqmL6YjXwsqthDI</td>\n",
       "      <td>0.994000</td>\n",
       "      <td>0.418</td>\n",
       "      <td>85267</td>\n",
       "      <td>...</td>\n",
       "      <td>0.029200</td>\n",
       "      <td>8</td>\n",
       "      <td>0.1790</td>\n",
       "      <td>-22.507</td>\n",
       "      <td>0</td>\n",
       "      <td>0.0448</td>\n",
       "      <td>46.718</td>\n",
       "      <td>4</td>\n",
       "      <td>0.800</td>\n",
       "      <td>0</td>\n",
       "    </tr>\n",
       "    <tr>\n",
       "      <th>1</th>\n",
       "      <td>1</td>\n",
       "      <td>1</td>\n",
       "      <td>1</td>\n",
       "      <td>This Christmas</td>\n",
       "      <td>Donny Hathaway</td>\n",
       "      <td>78</td>\n",
       "      <td>38xhBO2AKrJnjdjVnhJES6</td>\n",
       "      <td>0.292000</td>\n",
       "      <td>0.634</td>\n",
       "      <td>231173</td>\n",
       "      <td>...</td>\n",
       "      <td>0.000000</td>\n",
       "      <td>5</td>\n",
       "      <td>0.2460</td>\n",
       "      <td>-9.200</td>\n",
       "      <td>1</td>\n",
       "      <td>0.0376</td>\n",
       "      <td>93.050</td>\n",
       "      <td>4</td>\n",
       "      <td>0.677</td>\n",
       "      <td>0</td>\n",
       "    </tr>\n",
       "    <tr>\n",
       "      <th>2</th>\n",
       "      <td>2</td>\n",
       "      <td>2</td>\n",
       "      <td>2</td>\n",
       "      <td>Thunderstruck</td>\n",
       "      <td>AC/DC</td>\n",
       "      <td>81</td>\n",
       "      <td>57bgtoPSgt236HzfBOd8kj</td>\n",
       "      <td>0.000147</td>\n",
       "      <td>0.501</td>\n",
       "      <td>292880</td>\n",
       "      <td>...</td>\n",
       "      <td>0.011400</td>\n",
       "      <td>4</td>\n",
       "      <td>0.2170</td>\n",
       "      <td>-5.175</td>\n",
       "      <td>1</td>\n",
       "      <td>0.0364</td>\n",
       "      <td>133.519</td>\n",
       "      <td>4</td>\n",
       "      <td>0.257</td>\n",
       "      <td>0</td>\n",
       "    </tr>\n",
       "    <tr>\n",
       "      <th>3</th>\n",
       "      <td>3</td>\n",
       "      <td>3</td>\n",
       "      <td>3</td>\n",
       "      <td>Don't Go Breaking My Heart</td>\n",
       "      <td>Elton John</td>\n",
       "      <td>69</td>\n",
       "      <td>5pKJtX4wBeby9qIfFhyOJj</td>\n",
       "      <td>0.177000</td>\n",
       "      <td>0.742</td>\n",
       "      <td>271133</td>\n",
       "      <td>...</td>\n",
       "      <td>0.000006</td>\n",
       "      <td>5</td>\n",
       "      <td>0.0699</td>\n",
       "      <td>-7.823</td>\n",
       "      <td>1</td>\n",
       "      <td>0.0380</td>\n",
       "      <td>131.196</td>\n",
       "      <td>4</td>\n",
       "      <td>0.776</td>\n",
       "      <td>1</td>\n",
       "    </tr>\n",
       "    <tr>\n",
       "      <th>4</th>\n",
       "      <td>4</td>\n",
       "      <td>4</td>\n",
       "      <td>4</td>\n",
       "      <td>Man in the Box</td>\n",
       "      <td>Alice In Chains</td>\n",
       "      <td>71</td>\n",
       "      <td>6gZVQvQZOFpzIy3HblJ20F</td>\n",
       "      <td>0.002290</td>\n",
       "      <td>0.346</td>\n",
       "      <td>284427</td>\n",
       "      <td>...</td>\n",
       "      <td>0.000008</td>\n",
       "      <td>8</td>\n",
       "      <td>0.2130</td>\n",
       "      <td>-8.558</td>\n",
       "      <td>1</td>\n",
       "      <td>0.0413</td>\n",
       "      <td>106.463</td>\n",
       "      <td>4</td>\n",
       "      <td>0.644</td>\n",
       "      <td>0</td>\n",
       "    </tr>\n",
       "  </tbody>\n",
       "</table>\n",
       "<p>5 rows × 21 columns</p>\n",
       "</div>"
      ],
      "text/plain": [
       "   Unnamed: 0  Unnamed: 0.1  Unnamed: 0.1.1                       track  \\\n",
       "0           0             0               0          Carol of the Bells   \n",
       "1           1             1               1              This Christmas   \n",
       "2           2             2               2               Thunderstruck   \n",
       "3           3             3               3  Don't Go Breaking My Heart   \n",
       "4           4             4               4              Man in the Box   \n",
       "\n",
       "                         artist  popularity                      id  \\\n",
       "0  Mykola Dmytrovych Leontovych          79  4tHqQMWSqmL6YjXwsqthDI   \n",
       "1                Donny Hathaway          78  38xhBO2AKrJnjdjVnhJES6   \n",
       "2                         AC/DC          81  57bgtoPSgt236HzfBOd8kj   \n",
       "3                    Elton John          69  5pKJtX4wBeby9qIfFhyOJj   \n",
       "4               Alice In Chains          71  6gZVQvQZOFpzIy3HblJ20F   \n",
       "\n",
       "   acousticness  danceability  duration_ms  ...  instrumentalness  key  \\\n",
       "0      0.994000         0.418        85267  ...          0.029200    8   \n",
       "1      0.292000         0.634       231173  ...          0.000000    5   \n",
       "2      0.000147         0.501       292880  ...          0.011400    4   \n",
       "3      0.177000         0.742       271133  ...          0.000006    5   \n",
       "4      0.002290         0.346       284427  ...          0.000008    8   \n",
       "\n",
       "   liveness  loudness  mode  speechiness    tempo  time_signature  valence  \\\n",
       "0    0.1790   -22.507     0       0.0448   46.718               4    0.800   \n",
       "1    0.2460    -9.200     1       0.0376   93.050               4    0.677   \n",
       "2    0.2170    -5.175     1       0.0364  133.519               4    0.257   \n",
       "3    0.0699    -7.823     1       0.0380  131.196               4    0.776   \n",
       "4    0.2130    -8.558     1       0.0413  106.463               4    0.644   \n",
       "\n",
       "   top_song  \n",
       "0         0  \n",
       "1         0  \n",
       "2         0  \n",
       "3         1  \n",
       "4         0  \n",
       "\n",
       "[5 rows x 21 columns]"
      ]
     },
     "execution_count": 2,
     "metadata": {},
     "output_type": "execute_result"
    }
   ],
   "source": [
    "dataset = pd.read_csv(\"spotifyTOP.csv\") "
   ]
  },
  {
   "cell_type": "code",
   "execution_count": 4,
   "metadata": {},
   "outputs": [
    {
     "data": {
      "text/html": [
       "<div>\n",
       "<style scoped>\n",
       "    .dataframe tbody tr th:only-of-type {\n",
       "        vertical-align: middle;\n",
       "    }\n",
       "\n",
       "    .dataframe tbody tr th {\n",
       "        vertical-align: top;\n",
       "    }\n",
       "\n",
       "    .dataframe thead th {\n",
       "        text-align: right;\n",
       "    }\n",
       "</style>\n",
       "<table border=\"1\" class=\"dataframe\">\n",
       "  <thead>\n",
       "    <tr style=\"text-align: right;\">\n",
       "      <th></th>\n",
       "      <th>track</th>\n",
       "      <th>artist</th>\n",
       "      <th>popularity</th>\n",
       "      <th>id</th>\n",
       "      <th>acousticness</th>\n",
       "      <th>danceability</th>\n",
       "      <th>duration_ms</th>\n",
       "      <th>energy</th>\n",
       "      <th>instrumentalness</th>\n",
       "      <th>key</th>\n",
       "      <th>liveness</th>\n",
       "      <th>loudness</th>\n",
       "      <th>mode</th>\n",
       "      <th>speechiness</th>\n",
       "      <th>tempo</th>\n",
       "      <th>time_signature</th>\n",
       "      <th>valence</th>\n",
       "      <th>top_song</th>\n",
       "    </tr>\n",
       "  </thead>\n",
       "  <tbody>\n",
       "    <tr>\n",
       "      <th>0</th>\n",
       "      <td>Carol of the Bells</td>\n",
       "      <td>Mykola Dmytrovych Leontovych</td>\n",
       "      <td>79</td>\n",
       "      <td>4tHqQMWSqmL6YjXwsqthDI</td>\n",
       "      <td>0.994000</td>\n",
       "      <td>0.418</td>\n",
       "      <td>85267</td>\n",
       "      <td>0.106</td>\n",
       "      <td>0.029200</td>\n",
       "      <td>8</td>\n",
       "      <td>0.1790</td>\n",
       "      <td>-22.507</td>\n",
       "      <td>0</td>\n",
       "      <td>0.0448</td>\n",
       "      <td>46.718</td>\n",
       "      <td>4</td>\n",
       "      <td>0.800</td>\n",
       "      <td>0</td>\n",
       "    </tr>\n",
       "    <tr>\n",
       "      <th>1</th>\n",
       "      <td>This Christmas</td>\n",
       "      <td>Donny Hathaway</td>\n",
       "      <td>78</td>\n",
       "      <td>38xhBO2AKrJnjdjVnhJES6</td>\n",
       "      <td>0.292000</td>\n",
       "      <td>0.634</td>\n",
       "      <td>231173</td>\n",
       "      <td>0.645</td>\n",
       "      <td>0.000000</td>\n",
       "      <td>5</td>\n",
       "      <td>0.2460</td>\n",
       "      <td>-9.200</td>\n",
       "      <td>1</td>\n",
       "      <td>0.0376</td>\n",
       "      <td>93.050</td>\n",
       "      <td>4</td>\n",
       "      <td>0.677</td>\n",
       "      <td>0</td>\n",
       "    </tr>\n",
       "    <tr>\n",
       "      <th>2</th>\n",
       "      <td>Thunderstruck</td>\n",
       "      <td>AC/DC</td>\n",
       "      <td>81</td>\n",
       "      <td>57bgtoPSgt236HzfBOd8kj</td>\n",
       "      <td>0.000147</td>\n",
       "      <td>0.501</td>\n",
       "      <td>292880</td>\n",
       "      <td>0.889</td>\n",
       "      <td>0.011400</td>\n",
       "      <td>4</td>\n",
       "      <td>0.2170</td>\n",
       "      <td>-5.175</td>\n",
       "      <td>1</td>\n",
       "      <td>0.0364</td>\n",
       "      <td>133.519</td>\n",
       "      <td>4</td>\n",
       "      <td>0.257</td>\n",
       "      <td>0</td>\n",
       "    </tr>\n",
       "    <tr>\n",
       "      <th>3</th>\n",
       "      <td>Don't Go Breaking My Heart</td>\n",
       "      <td>Elton John</td>\n",
       "      <td>69</td>\n",
       "      <td>5pKJtX4wBeby9qIfFhyOJj</td>\n",
       "      <td>0.177000</td>\n",
       "      <td>0.742</td>\n",
       "      <td>271133</td>\n",
       "      <td>0.863</td>\n",
       "      <td>0.000006</td>\n",
       "      <td>5</td>\n",
       "      <td>0.0699</td>\n",
       "      <td>-7.823</td>\n",
       "      <td>1</td>\n",
       "      <td>0.0380</td>\n",
       "      <td>131.196</td>\n",
       "      <td>4</td>\n",
       "      <td>0.776</td>\n",
       "      <td>1</td>\n",
       "    </tr>\n",
       "    <tr>\n",
       "      <th>4</th>\n",
       "      <td>Man in the Box</td>\n",
       "      <td>Alice In Chains</td>\n",
       "      <td>71</td>\n",
       "      <td>6gZVQvQZOFpzIy3HblJ20F</td>\n",
       "      <td>0.002290</td>\n",
       "      <td>0.346</td>\n",
       "      <td>284427</td>\n",
       "      <td>0.765</td>\n",
       "      <td>0.000008</td>\n",
       "      <td>8</td>\n",
       "      <td>0.2130</td>\n",
       "      <td>-8.558</td>\n",
       "      <td>1</td>\n",
       "      <td>0.0413</td>\n",
       "      <td>106.463</td>\n",
       "      <td>4</td>\n",
       "      <td>0.644</td>\n",
       "      <td>0</td>\n",
       "    </tr>\n",
       "  </tbody>\n",
       "</table>\n",
       "</div>"
      ],
      "text/plain": [
       "                        track                        artist  popularity  \\\n",
       "0          Carol of the Bells  Mykola Dmytrovych Leontovych          79   \n",
       "1              This Christmas                Donny Hathaway          78   \n",
       "2               Thunderstruck                         AC/DC          81   \n",
       "3  Don't Go Breaking My Heart                    Elton John          69   \n",
       "4              Man in the Box               Alice In Chains          71   \n",
       "\n",
       "                       id  acousticness  danceability  duration_ms  energy  \\\n",
       "0  4tHqQMWSqmL6YjXwsqthDI      0.994000         0.418        85267   0.106   \n",
       "1  38xhBO2AKrJnjdjVnhJES6      0.292000         0.634       231173   0.645   \n",
       "2  57bgtoPSgt236HzfBOd8kj      0.000147         0.501       292880   0.889   \n",
       "3  5pKJtX4wBeby9qIfFhyOJj      0.177000         0.742       271133   0.863   \n",
       "4  6gZVQvQZOFpzIy3HblJ20F      0.002290         0.346       284427   0.765   \n",
       "\n",
       "   instrumentalness  key  liveness  loudness  mode  speechiness    tempo  \\\n",
       "0          0.029200    8    0.1790   -22.507     0       0.0448   46.718   \n",
       "1          0.000000    5    0.2460    -9.200     1       0.0376   93.050   \n",
       "2          0.011400    4    0.2170    -5.175     1       0.0364  133.519   \n",
       "3          0.000006    5    0.0699    -7.823     1       0.0380  131.196   \n",
       "4          0.000008    8    0.2130    -8.558     1       0.0413  106.463   \n",
       "\n",
       "   time_signature  valence  top_song  \n",
       "0               4    0.800         0  \n",
       "1               4    0.677         0  \n",
       "2               4    0.257         0  \n",
       "3               4    0.776         1  \n",
       "4               4    0.644         0  "
      ]
     },
     "execution_count": 4,
     "metadata": {},
     "output_type": "execute_result"
    }
   ],
   "source": [
    "del dataset['Unnamed: 0']\n",
    "del dataset['Unnamed: 0.1']\n",
    "del dataset['Unnamed: 0.1.1']\n",
    "dataset.head()"
   ]
  },
  {
   "cell_type": "code",
   "execution_count": 124,
   "metadata": {},
   "outputs": [],
   "source": [
    "# input \n",
    "x = dataset.iloc[:, [2]].values \n",
    "  \n",
    "# output \n",
    "y = dataset.iloc[:, 17].values "
   ]
  },
  {
   "cell_type": "code",
   "execution_count": 125,
   "metadata": {},
   "outputs": [],
   "source": [
    "from sklearn.model_selection import train_test_split\n",
    "xtrain, xtest, ytrain, ytest = train_test_split( \n",
    "        x, y, test_size = 0.2) "
   ]
  },
  {
   "cell_type": "code",
   "execution_count": 126,
   "metadata": {},
   "outputs": [
    {
     "name": "stdout",
     "output_type": "stream",
     "text": [
      "[[-0.56649016]\n",
      " [-0.31722711]\n",
      " [-1.31427933]\n",
      " [-0.23413942]\n",
      " [ 0.59673744]\n",
      " [-0.23413942]\n",
      " [-1.06501628]\n",
      " [-0.8988409 ]\n",
      " [ 0.84600049]\n",
      " [-0.73266553]]\n"
     ]
    }
   ],
   "source": [
    "from sklearn.preprocessing import StandardScaler \n",
    "sc_x = StandardScaler() \n",
    "xtrain = sc_x.fit_transform(xtrain)  \n",
    "xtest = sc_x.transform(xtest) \n",
    "  \n",
    "print (xtrain[0:10, :]) "
   ]
  },
  {
   "cell_type": "code",
   "execution_count": 163,
   "metadata": {},
   "outputs": [],
   "source": [
    "from sklearn.svm import SVC\n",
    "model = SVC()"
   ]
  },
  {
   "cell_type": "code",
   "execution_count": 164,
   "metadata": {},
   "outputs": [
    {
     "data": {
      "text/plain": [
       "SVC(C=1.0, cache_size=200, class_weight=None, coef0=0.0,\n",
       "    decision_function_shape='ovr', degree=3, gamma='auto_deprecated',\n",
       "    kernel='rbf', max_iter=-1, probability=False, random_state=None,\n",
       "    shrinking=True, tol=0.001, verbose=False)"
      ]
     },
     "execution_count": 164,
     "metadata": {},
     "output_type": "execute_result"
    }
   ],
   "source": [
    "model.fit(xtrain, ytrain)"
   ]
  },
  {
   "cell_type": "code",
   "execution_count": 165,
   "metadata": {},
   "outputs": [
    {
     "data": {
      "text/plain": [
       "0.8281818181818181"
      ]
     },
     "execution_count": 165,
     "metadata": {},
     "output_type": "execute_result"
    }
   ],
   "source": [
    "model.score(xtest, ytest)"
   ]
  },
  {
   "cell_type": "code",
   "execution_count": 166,
   "metadata": {},
   "outputs": [],
   "source": [
    "y_pred = model.predict(xtest) "
   ]
  },
  {
   "cell_type": "code",
   "execution_count": 167,
   "metadata": {},
   "outputs": [
    {
     "name": "stdout",
     "output_type": "stream",
     "text": [
      "Confusion Matrix : \n",
      " [[911   0]\n",
      " [189   0]]\n"
     ]
    }
   ],
   "source": [
    "from sklearn.metrics import confusion_matrix \n",
    "cm = confusion_matrix(ytest, y_pred) \n",
    "  \n",
    "print (\"Confusion Matrix : \\n\", cm) "
   ]
  },
  {
   "cell_type": "code",
   "execution_count": 168,
   "metadata": {},
   "outputs": [
    {
     "name": "stdout",
     "output_type": "stream",
     "text": [
      "Accuracy :  0.8281818181818181\n"
     ]
    }
   ],
   "source": [
    "from sklearn.metrics import accuracy_score \n",
    "print (\"Accuracy : \", accuracy_score(ytest, y_pred)) "
   ]
  },
  {
   "cell_type": "code",
   "execution_count": 169,
   "metadata": {},
   "outputs": [
    {
     "name": "stdout",
     "output_type": "stream",
     "text": [
      "              precision    recall  f1-score   support\n",
      "\n",
      "           0       0.83      1.00      0.91       911\n",
      "           1       0.00      0.00      0.00       189\n",
      "\n",
      "    accuracy                           0.83      1100\n",
      "   macro avg       0.41      0.50      0.45      1100\n",
      "weighted avg       0.69      0.83      0.75      1100\n",
      "\n"
     ]
    },
    {
     "name": "stderr",
     "output_type": "stream",
     "text": [
      "C:\\ProgramData\\Anaconda3\\lib\\site-packages\\sklearn\\metrics\\classification.py:1437: UndefinedMetricWarning: Precision and F-score are ill-defined and being set to 0.0 in labels with no predicted samples.\n",
      "  'precision', 'predicted', average, warn_for)\n"
     ]
    }
   ],
   "source": [
    "from sklearn.metrics import classification_report\n",
    "print(classification_report(ytest, y_pred))"
   ]
  },
  {
   "cell_type": "code",
   "execution_count": null,
   "metadata": {},
   "outputs": [],
   "source": []
  }
 ],
 "metadata": {
  "kernelspec": {
   "display_name": "Python 3",
   "language": "python",
   "name": "python3"
  },
  "language_info": {
   "codemirror_mode": {
    "name": "ipython",
    "version": 3
   },
   "file_extension": ".py",
   "mimetype": "text/x-python",
   "name": "python",
   "nbconvert_exporter": "python",
   "pygments_lexer": "ipython3",
   "version": "3.7.3"
  }
 },
 "nbformat": 4,
 "nbformat_minor": 2
}
