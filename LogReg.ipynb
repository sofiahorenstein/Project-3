{
 "cells": [
  {
   "cell_type": "code",
   "execution_count": 60,
   "metadata": {},
   "outputs": [],
   "source": [
    "import pandas as pd \n",
    "import numpy as np \n",
    "import matplotlib.pyplot as plt\n",
    "import seaborn as sns\n",
    "import math\n",
    "%matplotlib inline"
   ]
  },
  {
   "cell_type": "code",
   "execution_count": 61,
   "metadata": {
    "scrolled": true
   },
   "outputs": [
    {
     "data": {
      "text/html": [
       "<div>\n",
       "<style scoped>\n",
       "    .dataframe tbody tr th:only-of-type {\n",
       "        vertical-align: middle;\n",
       "    }\n",
       "\n",
       "    .dataframe tbody tr th {\n",
       "        vertical-align: top;\n",
       "    }\n",
       "\n",
       "    .dataframe thead th {\n",
       "        text-align: right;\n",
       "    }\n",
       "</style>\n",
       "<table border=\"1\" class=\"dataframe\">\n",
       "  <thead>\n",
       "    <tr style=\"text-align: right;\">\n",
       "      <th></th>\n",
       "      <th>Unnamed: 0</th>\n",
       "      <th>Unnamed: 0.1</th>\n",
       "      <th>Unnamed: 0.1.1</th>\n",
       "      <th>track</th>\n",
       "      <th>artist</th>\n",
       "      <th>popularity</th>\n",
       "      <th>id</th>\n",
       "      <th>acousticness</th>\n",
       "      <th>danceability</th>\n",
       "      <th>duration_ms</th>\n",
       "      <th>...</th>\n",
       "      <th>instrumentalness</th>\n",
       "      <th>key</th>\n",
       "      <th>liveness</th>\n",
       "      <th>loudness</th>\n",
       "      <th>mode</th>\n",
       "      <th>speechiness</th>\n",
       "      <th>tempo</th>\n",
       "      <th>time_signature</th>\n",
       "      <th>valence</th>\n",
       "      <th>top_song</th>\n",
       "    </tr>\n",
       "  </thead>\n",
       "  <tbody>\n",
       "    <tr>\n",
       "      <th>0</th>\n",
       "      <td>0</td>\n",
       "      <td>0</td>\n",
       "      <td>0</td>\n",
       "      <td>Carol of the Bells</td>\n",
       "      <td>Mykola Dmytrovych Leontovych</td>\n",
       "      <td>79</td>\n",
       "      <td>4tHqQMWSqmL6YjXwsqthDI</td>\n",
       "      <td>0.994000</td>\n",
       "      <td>0.418</td>\n",
       "      <td>85267</td>\n",
       "      <td>...</td>\n",
       "      <td>0.029200</td>\n",
       "      <td>8</td>\n",
       "      <td>0.1790</td>\n",
       "      <td>-22.507</td>\n",
       "      <td>0</td>\n",
       "      <td>0.0448</td>\n",
       "      <td>46.718</td>\n",
       "      <td>4</td>\n",
       "      <td>0.800</td>\n",
       "      <td>0</td>\n",
       "    </tr>\n",
       "    <tr>\n",
       "      <th>1</th>\n",
       "      <td>1</td>\n",
       "      <td>1</td>\n",
       "      <td>1</td>\n",
       "      <td>This Christmas</td>\n",
       "      <td>Donny Hathaway</td>\n",
       "      <td>78</td>\n",
       "      <td>38xhBO2AKrJnjdjVnhJES6</td>\n",
       "      <td>0.292000</td>\n",
       "      <td>0.634</td>\n",
       "      <td>231173</td>\n",
       "      <td>...</td>\n",
       "      <td>0.000000</td>\n",
       "      <td>5</td>\n",
       "      <td>0.2460</td>\n",
       "      <td>-9.200</td>\n",
       "      <td>1</td>\n",
       "      <td>0.0376</td>\n",
       "      <td>93.050</td>\n",
       "      <td>4</td>\n",
       "      <td>0.677</td>\n",
       "      <td>0</td>\n",
       "    </tr>\n",
       "    <tr>\n",
       "      <th>2</th>\n",
       "      <td>2</td>\n",
       "      <td>2</td>\n",
       "      <td>2</td>\n",
       "      <td>Thunderstruck</td>\n",
       "      <td>AC/DC</td>\n",
       "      <td>81</td>\n",
       "      <td>57bgtoPSgt236HzfBOd8kj</td>\n",
       "      <td>0.000147</td>\n",
       "      <td>0.501</td>\n",
       "      <td>292880</td>\n",
       "      <td>...</td>\n",
       "      <td>0.011400</td>\n",
       "      <td>4</td>\n",
       "      <td>0.2170</td>\n",
       "      <td>-5.175</td>\n",
       "      <td>1</td>\n",
       "      <td>0.0364</td>\n",
       "      <td>133.519</td>\n",
       "      <td>4</td>\n",
       "      <td>0.257</td>\n",
       "      <td>0</td>\n",
       "    </tr>\n",
       "    <tr>\n",
       "      <th>3</th>\n",
       "      <td>3</td>\n",
       "      <td>3</td>\n",
       "      <td>3</td>\n",
       "      <td>Don't Go Breaking My Heart</td>\n",
       "      <td>Elton John</td>\n",
       "      <td>69</td>\n",
       "      <td>5pKJtX4wBeby9qIfFhyOJj</td>\n",
       "      <td>0.177000</td>\n",
       "      <td>0.742</td>\n",
       "      <td>271133</td>\n",
       "      <td>...</td>\n",
       "      <td>0.000006</td>\n",
       "      <td>5</td>\n",
       "      <td>0.0699</td>\n",
       "      <td>-7.823</td>\n",
       "      <td>1</td>\n",
       "      <td>0.0380</td>\n",
       "      <td>131.196</td>\n",
       "      <td>4</td>\n",
       "      <td>0.776</td>\n",
       "      <td>1</td>\n",
       "    </tr>\n",
       "    <tr>\n",
       "      <th>4</th>\n",
       "      <td>4</td>\n",
       "      <td>4</td>\n",
       "      <td>4</td>\n",
       "      <td>Man in the Box</td>\n",
       "      <td>Alice In Chains</td>\n",
       "      <td>71</td>\n",
       "      <td>6gZVQvQZOFpzIy3HblJ20F</td>\n",
       "      <td>0.002290</td>\n",
       "      <td>0.346</td>\n",
       "      <td>284427</td>\n",
       "      <td>...</td>\n",
       "      <td>0.000008</td>\n",
       "      <td>8</td>\n",
       "      <td>0.2130</td>\n",
       "      <td>-8.558</td>\n",
       "      <td>1</td>\n",
       "      <td>0.0413</td>\n",
       "      <td>106.463</td>\n",
       "      <td>4</td>\n",
       "      <td>0.644</td>\n",
       "      <td>0</td>\n",
       "    </tr>\n",
       "  </tbody>\n",
       "</table>\n",
       "<p>5 rows × 21 columns</p>\n",
       "</div>"
      ],
      "text/plain": [
       "   Unnamed: 0  Unnamed: 0.1  Unnamed: 0.1.1                       track  \\\n",
       "0           0             0               0          Carol of the Bells   \n",
       "1           1             1               1              This Christmas   \n",
       "2           2             2               2               Thunderstruck   \n",
       "3           3             3               3  Don't Go Breaking My Heart   \n",
       "4           4             4               4              Man in the Box   \n",
       "\n",
       "                         artist  popularity                      id  \\\n",
       "0  Mykola Dmytrovych Leontovych          79  4tHqQMWSqmL6YjXwsqthDI   \n",
       "1                Donny Hathaway          78  38xhBO2AKrJnjdjVnhJES6   \n",
       "2                         AC/DC          81  57bgtoPSgt236HzfBOd8kj   \n",
       "3                    Elton John          69  5pKJtX4wBeby9qIfFhyOJj   \n",
       "4               Alice In Chains          71  6gZVQvQZOFpzIy3HblJ20F   \n",
       "\n",
       "   acousticness  danceability  duration_ms  ...  instrumentalness  key  \\\n",
       "0      0.994000         0.418        85267  ...          0.029200    8   \n",
       "1      0.292000         0.634       231173  ...          0.000000    5   \n",
       "2      0.000147         0.501       292880  ...          0.011400    4   \n",
       "3      0.177000         0.742       271133  ...          0.000006    5   \n",
       "4      0.002290         0.346       284427  ...          0.000008    8   \n",
       "\n",
       "   liveness  loudness  mode  speechiness    tempo  time_signature  valence  \\\n",
       "0    0.1790   -22.507     0       0.0448   46.718               4    0.800   \n",
       "1    0.2460    -9.200     1       0.0376   93.050               4    0.677   \n",
       "2    0.2170    -5.175     1       0.0364  133.519               4    0.257   \n",
       "3    0.0699    -7.823     1       0.0380  131.196               4    0.776   \n",
       "4    0.2130    -8.558     1       0.0413  106.463               4    0.644   \n",
       "\n",
       "   top_song  \n",
       "0         0  \n",
       "1         0  \n",
       "2         0  \n",
       "3         1  \n",
       "4         0  \n",
       "\n",
       "[5 rows x 21 columns]"
      ]
     },
     "execution_count": 61,
     "metadata": {},
     "output_type": "execute_result"
    }
   ],
   "source": [
    "dataset = pd.read_csv(\"spotifyTOP.csv\") \n",
    "dataset.head()"
   ]
  },
  {
   "cell_type": "code",
   "execution_count": 62,
   "metadata": {},
   "outputs": [
    {
     "data": {
      "text/plain": [
       "Index(['Unnamed: 0', 'Unnamed: 0.1', 'Unnamed: 0.1.1', 'track', 'artist',\n",
       "       'popularity', 'id', 'acousticness', 'danceability', 'duration_ms',\n",
       "       'energy', 'instrumentalness', 'key', 'liveness', 'loudness', 'mode',\n",
       "       'speechiness', 'tempo', 'time_signature', 'valence', 'top_song'],\n",
       "      dtype='object')"
      ]
     },
     "execution_count": 62,
     "metadata": {},
     "output_type": "execute_result"
    }
   ],
   "source": [
    "dataset.columns"
   ]
  },
  {
   "cell_type": "code",
   "execution_count": 63,
   "metadata": {},
   "outputs": [
    {
     "data": {
      "text/html": [
       "<div>\n",
       "<style scoped>\n",
       "    .dataframe tbody tr th:only-of-type {\n",
       "        vertical-align: middle;\n",
       "    }\n",
       "\n",
       "    .dataframe tbody tr th {\n",
       "        vertical-align: top;\n",
       "    }\n",
       "\n",
       "    .dataframe thead th {\n",
       "        text-align: right;\n",
       "    }\n",
       "</style>\n",
       "<table border=\"1\" class=\"dataframe\">\n",
       "  <thead>\n",
       "    <tr style=\"text-align: right;\">\n",
       "      <th></th>\n",
       "      <th>track</th>\n",
       "      <th>artist</th>\n",
       "      <th>popularity</th>\n",
       "      <th>id</th>\n",
       "      <th>acousticness</th>\n",
       "      <th>danceability</th>\n",
       "      <th>duration_ms</th>\n",
       "      <th>energy</th>\n",
       "      <th>instrumentalness</th>\n",
       "      <th>key</th>\n",
       "      <th>liveness</th>\n",
       "      <th>loudness</th>\n",
       "      <th>mode</th>\n",
       "      <th>speechiness</th>\n",
       "      <th>tempo</th>\n",
       "      <th>time_signature</th>\n",
       "      <th>valence</th>\n",
       "      <th>top_song</th>\n",
       "    </tr>\n",
       "  </thead>\n",
       "  <tbody>\n",
       "    <tr>\n",
       "      <th>0</th>\n",
       "      <td>Carol of the Bells</td>\n",
       "      <td>Mykola Dmytrovych Leontovych</td>\n",
       "      <td>79</td>\n",
       "      <td>4tHqQMWSqmL6YjXwsqthDI</td>\n",
       "      <td>0.994000</td>\n",
       "      <td>0.418</td>\n",
       "      <td>85267</td>\n",
       "      <td>0.106</td>\n",
       "      <td>0.029200</td>\n",
       "      <td>8</td>\n",
       "      <td>0.1790</td>\n",
       "      <td>-22.507</td>\n",
       "      <td>0</td>\n",
       "      <td>0.0448</td>\n",
       "      <td>46.718</td>\n",
       "      <td>4</td>\n",
       "      <td>0.800</td>\n",
       "      <td>0</td>\n",
       "    </tr>\n",
       "    <tr>\n",
       "      <th>1</th>\n",
       "      <td>This Christmas</td>\n",
       "      <td>Donny Hathaway</td>\n",
       "      <td>78</td>\n",
       "      <td>38xhBO2AKrJnjdjVnhJES6</td>\n",
       "      <td>0.292000</td>\n",
       "      <td>0.634</td>\n",
       "      <td>231173</td>\n",
       "      <td>0.645</td>\n",
       "      <td>0.000000</td>\n",
       "      <td>5</td>\n",
       "      <td>0.2460</td>\n",
       "      <td>-9.200</td>\n",
       "      <td>1</td>\n",
       "      <td>0.0376</td>\n",
       "      <td>93.050</td>\n",
       "      <td>4</td>\n",
       "      <td>0.677</td>\n",
       "      <td>0</td>\n",
       "    </tr>\n",
       "    <tr>\n",
       "      <th>2</th>\n",
       "      <td>Thunderstruck</td>\n",
       "      <td>AC/DC</td>\n",
       "      <td>81</td>\n",
       "      <td>57bgtoPSgt236HzfBOd8kj</td>\n",
       "      <td>0.000147</td>\n",
       "      <td>0.501</td>\n",
       "      <td>292880</td>\n",
       "      <td>0.889</td>\n",
       "      <td>0.011400</td>\n",
       "      <td>4</td>\n",
       "      <td>0.2170</td>\n",
       "      <td>-5.175</td>\n",
       "      <td>1</td>\n",
       "      <td>0.0364</td>\n",
       "      <td>133.519</td>\n",
       "      <td>4</td>\n",
       "      <td>0.257</td>\n",
       "      <td>0</td>\n",
       "    </tr>\n",
       "    <tr>\n",
       "      <th>3</th>\n",
       "      <td>Don't Go Breaking My Heart</td>\n",
       "      <td>Elton John</td>\n",
       "      <td>69</td>\n",
       "      <td>5pKJtX4wBeby9qIfFhyOJj</td>\n",
       "      <td>0.177000</td>\n",
       "      <td>0.742</td>\n",
       "      <td>271133</td>\n",
       "      <td>0.863</td>\n",
       "      <td>0.000006</td>\n",
       "      <td>5</td>\n",
       "      <td>0.0699</td>\n",
       "      <td>-7.823</td>\n",
       "      <td>1</td>\n",
       "      <td>0.0380</td>\n",
       "      <td>131.196</td>\n",
       "      <td>4</td>\n",
       "      <td>0.776</td>\n",
       "      <td>1</td>\n",
       "    </tr>\n",
       "    <tr>\n",
       "      <th>4</th>\n",
       "      <td>Man in the Box</td>\n",
       "      <td>Alice In Chains</td>\n",
       "      <td>71</td>\n",
       "      <td>6gZVQvQZOFpzIy3HblJ20F</td>\n",
       "      <td>0.002290</td>\n",
       "      <td>0.346</td>\n",
       "      <td>284427</td>\n",
       "      <td>0.765</td>\n",
       "      <td>0.000008</td>\n",
       "      <td>8</td>\n",
       "      <td>0.2130</td>\n",
       "      <td>-8.558</td>\n",
       "      <td>1</td>\n",
       "      <td>0.0413</td>\n",
       "      <td>106.463</td>\n",
       "      <td>4</td>\n",
       "      <td>0.644</td>\n",
       "      <td>0</td>\n",
       "    </tr>\n",
       "  </tbody>\n",
       "</table>\n",
       "</div>"
      ],
      "text/plain": [
       "                        track                        artist  popularity  \\\n",
       "0          Carol of the Bells  Mykola Dmytrovych Leontovych          79   \n",
       "1              This Christmas                Donny Hathaway          78   \n",
       "2               Thunderstruck                         AC/DC          81   \n",
       "3  Don't Go Breaking My Heart                    Elton John          69   \n",
       "4              Man in the Box               Alice In Chains          71   \n",
       "\n",
       "                       id  acousticness  danceability  duration_ms  energy  \\\n",
       "0  4tHqQMWSqmL6YjXwsqthDI      0.994000         0.418        85267   0.106   \n",
       "1  38xhBO2AKrJnjdjVnhJES6      0.292000         0.634       231173   0.645   \n",
       "2  57bgtoPSgt236HzfBOd8kj      0.000147         0.501       292880   0.889   \n",
       "3  5pKJtX4wBeby9qIfFhyOJj      0.177000         0.742       271133   0.863   \n",
       "4  6gZVQvQZOFpzIy3HblJ20F      0.002290         0.346       284427   0.765   \n",
       "\n",
       "   instrumentalness  key  liveness  loudness  mode  speechiness    tempo  \\\n",
       "0          0.029200    8    0.1790   -22.507     0       0.0448   46.718   \n",
       "1          0.000000    5    0.2460    -9.200     1       0.0376   93.050   \n",
       "2          0.011400    4    0.2170    -5.175     1       0.0364  133.519   \n",
       "3          0.000006    5    0.0699    -7.823     1       0.0380  131.196   \n",
       "4          0.000008    8    0.2130    -8.558     1       0.0413  106.463   \n",
       "\n",
       "   time_signature  valence  top_song  \n",
       "0               4    0.800         0  \n",
       "1               4    0.677         0  \n",
       "2               4    0.257         0  \n",
       "3               4    0.776         1  \n",
       "4               4    0.644         0  "
      ]
     },
     "execution_count": 63,
     "metadata": {},
     "output_type": "execute_result"
    }
   ],
   "source": [
    "del dataset['Unnamed: 0']\n",
    "del dataset['Unnamed: 0.1']\n",
    "del dataset['Unnamed: 0.1.1']\n",
    "dataset.head()"
   ]
  },
  {
   "cell_type": "code",
   "execution_count": 64,
   "metadata": {},
   "outputs": [
    {
     "data": {
      "text/plain": [
       "4    9947\n",
       "3     841\n",
       "5     132\n",
       "1      70\n",
       "0      10\n",
       "Name: time_signature, dtype: int64"
      ]
     },
     "execution_count": 64,
     "metadata": {},
     "output_type": "execute_result"
    }
   ],
   "source": [
    "dataset['time_signature'].value_counts()"
   ]
  },
  {
   "cell_type": "code",
   "execution_count": null,
   "metadata": {},
   "outputs": [],
   "source": []
  },
  {
   "cell_type": "code",
   "execution_count": null,
   "metadata": {},
   "outputs": [],
   "source": []
  },
  {
   "cell_type": "code",
   "execution_count": null,
   "metadata": {},
   "outputs": [],
   "source": []
  },
  {
   "cell_type": "code",
   "execution_count": 65,
   "metadata": {},
   "outputs": [],
   "source": [
    "# input \n",
    "x = dataset.iloc[:, [2, 4, 5, 6, 7, 8, 9, 10, 11, 12, 13, 14, 15, 16]].values \n",
    "  \n",
    "# output \n",
    "y = dataset.iloc[:, 17].values \n",
    "\n"
   ]
  },
  {
   "cell_type": "code",
   "execution_count": 66,
   "metadata": {},
   "outputs": [],
   "source": [
    "from sklearn.model_selection import train_test_split\n",
    "xtrain, xtest, ytrain, ytest = train_test_split( \n",
    "        x, y, stratify=y, random_state = 0) "
   ]
  },
  {
   "cell_type": "code",
   "execution_count": 67,
   "metadata": {},
   "outputs": [
    {
     "name": "stdout",
     "output_type": "stream",
     "text": [
      "[[-1.47915291 -0.53483632 -1.20867248  0.77366491 -0.52766075  3.47390035\n",
      "  -0.91751222 -0.63370086 -0.21907872  0.65106588 -0.5929382  -0.3254729\n",
      "   0.22985019 -1.68845684]\n",
      " [-0.9813688  -0.74836349  1.44049644  0.02915172 -0.67186329 -0.36433359\n",
      "   1.61926984 -0.84914936 -1.32460737 -1.53594288 -0.31007714 -0.67003398\n",
      "   0.22985019  0.63221643]\n",
      " [-0.40062067  1.01597535 -0.97343973  0.260224   -0.89240836 -0.36408362\n",
      "   0.49181115 -0.19196771  0.27992975  0.65106588 -0.58361311 -1.5059065\n",
      "   0.22985019 -1.24748133]\n",
      " [ 0.26309147  2.0155349   0.20272407  0.27725826 -0.8542371  -0.36291531\n",
      "  -1.48124157 -0.74779932 -0.31266958  0.65106588 -0.62816631 -0.18852948\n",
      "   0.22985019 -0.38297898]\n",
      " [ 0.51198353  1.61039781  0.68999192  0.69537185 -0.7057933  -0.36433359\n",
      "  -0.35378287 -0.59481815 -0.57181132  0.65106588 -0.38985846 -0.96147684\n",
      "   0.22985019 -0.51384401]\n",
      " [-1.06433282 -0.52155313  0.18592173 -0.48170824  0.22728196 -0.36431967\n",
      "  -1.48124157  1.00001063 -0.48593047  0.65106588  2.51853347  2.08118144\n",
      "   0.22985019  0.96929304]\n",
      " [-0.0687646   1.03590013  1.46850034 -0.69506232  0.06187316 -0.36433359\n",
      "   1.0555405  -0.63051376  0.96933244  0.65106588 -0.56392681 -0.70585342\n",
      "   0.22985019  1.74655203]\n",
      " [-0.89840478 -0.48834517  1.3676863  -0.54916132  0.71502585 -0.34961888\n",
      "   1.33740517  0.45182808  0.19511972 -1.53594288  1.25446572 -0.86334317\n",
      "   0.22985019  0.96532743]\n",
      " [ 0.34605549 -0.88518028  0.16351861 -0.93114164  1.33424853 -0.36433359\n",
      "  -1.48124157 -0.1473482   0.76437488  0.65106588 -0.17020079 -0.76749242\n",
      "   0.22985019  0.59256036]\n",
      " [-0.23469264  0.26879628 -0.91183115 -0.8237742   0.93981216 -0.36433359\n",
      "   0.20994648 -0.868272    0.65022402  0.65106588  0.20798341  2.27896001\n",
      "   0.22985019 -0.09745527]]\n"
     ]
    }
   ],
   "source": [
    "from sklearn.preprocessing import StandardScaler \n",
    "sc_x = StandardScaler() \n",
    "xtrain = sc_x.fit_transform(xtrain)  \n",
    "xtest = sc_x.transform(xtest) \n",
    "  \n",
    "print (xtrain[0:10, :]) "
   ]
  },
  {
   "cell_type": "code",
   "execution_count": 68,
   "metadata": {},
   "outputs": [
    {
     "name": "stderr",
     "output_type": "stream",
     "text": [
      "C:\\ProgramData\\Anaconda3\\lib\\site-packages\\sklearn\\linear_model\\logistic.py:432: FutureWarning: Default solver will be changed to 'lbfgs' in 0.22. Specify a solver to silence this warning.\n",
      "  FutureWarning)\n"
     ]
    },
    {
     "data": {
      "text/plain": [
       "LogisticRegression(C=1.0, class_weight=None, dual=False, fit_intercept=True,\n",
       "                   intercept_scaling=1, l1_ratio=None, max_iter=100,\n",
       "                   multi_class='warn', n_jobs=None, penalty='l2',\n",
       "                   random_state=0, solver='warn', tol=0.0001, verbose=0,\n",
       "                   warm_start=False)"
      ]
     },
     "execution_count": 68,
     "metadata": {},
     "output_type": "execute_result"
    }
   ],
   "source": [
    "from sklearn.linear_model import LogisticRegression \n",
    "classifier = LogisticRegression(random_state = 0) \n",
    "classifier.fit(xtrain, ytrain) "
   ]
  },
  {
   "cell_type": "code",
   "execution_count": 69,
   "metadata": {},
   "outputs": [],
   "source": [
    "y_pred = classifier.predict(xtest) "
   ]
  },
  {
   "cell_type": "code",
   "execution_count": 70,
   "metadata": {},
   "outputs": [
    {
     "name": "stdout",
     "output_type": "stream",
     "text": [
      "Confusion Matrix : \n",
      " [[2326    3]\n",
      " [ 421    0]]\n"
     ]
    }
   ],
   "source": [
    "from sklearn.metrics import confusion_matrix \n",
    "cm = confusion_matrix(ytest, y_pred) \n",
    "  \n",
    "print (\"Confusion Matrix : \\n\", cm) "
   ]
  },
  {
   "cell_type": "code",
   "execution_count": 71,
   "metadata": {},
   "outputs": [
    {
     "name": "stdout",
     "output_type": "stream",
     "text": [
      "Accuracy :  0.8458181818181818\n"
     ]
    }
   ],
   "source": [
    "from sklearn.metrics import accuracy_score \n",
    "print (\"Accuracy : \", accuracy_score(ytest, y_pred)) "
   ]
  },
  {
   "cell_type": "code",
   "execution_count": 72,
   "metadata": {},
   "outputs": [
    {
     "name": "stdout",
     "output_type": "stream",
     "text": [
      "              precision    recall  f1-score   support\n",
      "\n",
      "           0       0.85      1.00      0.92      2329\n",
      "           1       0.00      0.00      0.00       421\n",
      "\n",
      "    accuracy                           0.85      2750\n",
      "   macro avg       0.42      0.50      0.46      2750\n",
      "weighted avg       0.72      0.85      0.78      2750\n",
      "\n"
     ]
    }
   ],
   "source": [
    "from sklearn.metrics import classification_report\n",
    "print(classification_report(ytest, y_pred))"
   ]
  },
  {
   "cell_type": "code",
   "execution_count": null,
   "metadata": {},
   "outputs": [],
   "source": []
  },
  {
   "cell_type": "code",
   "execution_count": null,
   "metadata": {},
   "outputs": [],
   "source": []
  }
 ],
 "metadata": {
  "kernelspec": {
   "display_name": "Python 3",
   "language": "python",
   "name": "python3"
  },
  "language_info": {
   "codemirror_mode": {
    "name": "ipython",
    "version": 3
   },
   "file_extension": ".py",
   "mimetype": "text/x-python",
   "name": "python",
   "nbconvert_exporter": "python",
   "pygments_lexer": "ipython3",
   "version": "3.7.3"
  }
 },
 "nbformat": 4,
 "nbformat_minor": 2
}
