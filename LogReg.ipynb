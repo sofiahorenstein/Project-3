{
 "cells": [
  {
   "cell_type": "code",
   "execution_count": 18,
   "metadata": {},
   "outputs": [],
   "source": [
    "import pandas as pd \n",
    "import numpy as np \n",
    "import matplotlib.pyplot as plt "
   ]
  },
  {
   "cell_type": "code",
   "execution_count": 19,
   "metadata": {
    "scrolled": true
   },
   "outputs": [
    {
     "data": {
      "text/html": [
       "<div>\n",
       "<style scoped>\n",
       "    .dataframe tbody tr th:only-of-type {\n",
       "        vertical-align: middle;\n",
       "    }\n",
       "\n",
       "    .dataframe tbody tr th {\n",
       "        vertical-align: top;\n",
       "    }\n",
       "\n",
       "    .dataframe thead th {\n",
       "        text-align: right;\n",
       "    }\n",
       "</style>\n",
       "<table border=\"1\" class=\"dataframe\">\n",
       "  <thead>\n",
       "    <tr style=\"text-align: right;\">\n",
       "      <th></th>\n",
       "      <th>Unnamed: 0</th>\n",
       "      <th>Unnamed: 0.1</th>\n",
       "      <th>Unnamed: 0.1.1</th>\n",
       "      <th>track</th>\n",
       "      <th>artist</th>\n",
       "      <th>popularity</th>\n",
       "      <th>id</th>\n",
       "      <th>acousticness</th>\n",
       "      <th>danceability</th>\n",
       "      <th>duration_ms</th>\n",
       "      <th>...</th>\n",
       "      <th>instrumentalness</th>\n",
       "      <th>key</th>\n",
       "      <th>liveness</th>\n",
       "      <th>loudness</th>\n",
       "      <th>mode</th>\n",
       "      <th>speechiness</th>\n",
       "      <th>tempo</th>\n",
       "      <th>time_signature</th>\n",
       "      <th>valence</th>\n",
       "      <th>top_song</th>\n",
       "    </tr>\n",
       "  </thead>\n",
       "  <tbody>\n",
       "    <tr>\n",
       "      <th>0</th>\n",
       "      <td>0</td>\n",
       "      <td>0</td>\n",
       "      <td>0</td>\n",
       "      <td>Carol of the Bells</td>\n",
       "      <td>Mykola Dmytrovych Leontovych</td>\n",
       "      <td>79</td>\n",
       "      <td>4tHqQMWSqmL6YjXwsqthDI</td>\n",
       "      <td>0.994000</td>\n",
       "      <td>0.418</td>\n",
       "      <td>85267</td>\n",
       "      <td>...</td>\n",
       "      <td>0.029200</td>\n",
       "      <td>8</td>\n",
       "      <td>0.1790</td>\n",
       "      <td>-22.507</td>\n",
       "      <td>0</td>\n",
       "      <td>0.0448</td>\n",
       "      <td>46.718</td>\n",
       "      <td>4</td>\n",
       "      <td>0.800</td>\n",
       "      <td>0</td>\n",
       "    </tr>\n",
       "    <tr>\n",
       "      <th>1</th>\n",
       "      <td>1</td>\n",
       "      <td>1</td>\n",
       "      <td>1</td>\n",
       "      <td>This Christmas</td>\n",
       "      <td>Donny Hathaway</td>\n",
       "      <td>78</td>\n",
       "      <td>38xhBO2AKrJnjdjVnhJES6</td>\n",
       "      <td>0.292000</td>\n",
       "      <td>0.634</td>\n",
       "      <td>231173</td>\n",
       "      <td>...</td>\n",
       "      <td>0.000000</td>\n",
       "      <td>5</td>\n",
       "      <td>0.2460</td>\n",
       "      <td>-9.200</td>\n",
       "      <td>1</td>\n",
       "      <td>0.0376</td>\n",
       "      <td>93.050</td>\n",
       "      <td>4</td>\n",
       "      <td>0.677</td>\n",
       "      <td>0</td>\n",
       "    </tr>\n",
       "    <tr>\n",
       "      <th>2</th>\n",
       "      <td>2</td>\n",
       "      <td>2</td>\n",
       "      <td>2</td>\n",
       "      <td>Thunderstruck</td>\n",
       "      <td>AC/DC</td>\n",
       "      <td>81</td>\n",
       "      <td>57bgtoPSgt236HzfBOd8kj</td>\n",
       "      <td>0.000147</td>\n",
       "      <td>0.501</td>\n",
       "      <td>292880</td>\n",
       "      <td>...</td>\n",
       "      <td>0.011400</td>\n",
       "      <td>4</td>\n",
       "      <td>0.2170</td>\n",
       "      <td>-5.175</td>\n",
       "      <td>1</td>\n",
       "      <td>0.0364</td>\n",
       "      <td>133.519</td>\n",
       "      <td>4</td>\n",
       "      <td>0.257</td>\n",
       "      <td>0</td>\n",
       "    </tr>\n",
       "    <tr>\n",
       "      <th>3</th>\n",
       "      <td>3</td>\n",
       "      <td>3</td>\n",
       "      <td>3</td>\n",
       "      <td>Don't Go Breaking My Heart</td>\n",
       "      <td>Elton John</td>\n",
       "      <td>69</td>\n",
       "      <td>5pKJtX4wBeby9qIfFhyOJj</td>\n",
       "      <td>0.177000</td>\n",
       "      <td>0.742</td>\n",
       "      <td>271133</td>\n",
       "      <td>...</td>\n",
       "      <td>0.000006</td>\n",
       "      <td>5</td>\n",
       "      <td>0.0699</td>\n",
       "      <td>-7.823</td>\n",
       "      <td>1</td>\n",
       "      <td>0.0380</td>\n",
       "      <td>131.196</td>\n",
       "      <td>4</td>\n",
       "      <td>0.776</td>\n",
       "      <td>1</td>\n",
       "    </tr>\n",
       "    <tr>\n",
       "      <th>4</th>\n",
       "      <td>4</td>\n",
       "      <td>4</td>\n",
       "      <td>4</td>\n",
       "      <td>Man in the Box</td>\n",
       "      <td>Alice In Chains</td>\n",
       "      <td>71</td>\n",
       "      <td>6gZVQvQZOFpzIy3HblJ20F</td>\n",
       "      <td>0.002290</td>\n",
       "      <td>0.346</td>\n",
       "      <td>284427</td>\n",
       "      <td>...</td>\n",
       "      <td>0.000008</td>\n",
       "      <td>8</td>\n",
       "      <td>0.2130</td>\n",
       "      <td>-8.558</td>\n",
       "      <td>1</td>\n",
       "      <td>0.0413</td>\n",
       "      <td>106.463</td>\n",
       "      <td>4</td>\n",
       "      <td>0.644</td>\n",
       "      <td>0</td>\n",
       "    </tr>\n",
       "  </tbody>\n",
       "</table>\n",
       "<p>5 rows × 21 columns</p>\n",
       "</div>"
      ],
      "text/plain": [
       "   Unnamed: 0  Unnamed: 0.1  Unnamed: 0.1.1                       track  \\\n",
       "0           0             0               0          Carol of the Bells   \n",
       "1           1             1               1              This Christmas   \n",
       "2           2             2               2               Thunderstruck   \n",
       "3           3             3               3  Don't Go Breaking My Heart   \n",
       "4           4             4               4              Man in the Box   \n",
       "\n",
       "                         artist  popularity                      id  \\\n",
       "0  Mykola Dmytrovych Leontovych          79  4tHqQMWSqmL6YjXwsqthDI   \n",
       "1                Donny Hathaway          78  38xhBO2AKrJnjdjVnhJES6   \n",
       "2                         AC/DC          81  57bgtoPSgt236HzfBOd8kj   \n",
       "3                    Elton John          69  5pKJtX4wBeby9qIfFhyOJj   \n",
       "4               Alice In Chains          71  6gZVQvQZOFpzIy3HblJ20F   \n",
       "\n",
       "   acousticness  danceability  duration_ms  ...  instrumentalness  key  \\\n",
       "0      0.994000         0.418        85267  ...          0.029200    8   \n",
       "1      0.292000         0.634       231173  ...          0.000000    5   \n",
       "2      0.000147         0.501       292880  ...          0.011400    4   \n",
       "3      0.177000         0.742       271133  ...          0.000006    5   \n",
       "4      0.002290         0.346       284427  ...          0.000008    8   \n",
       "\n",
       "   liveness  loudness  mode  speechiness    tempo  time_signature  valence  \\\n",
       "0    0.1790   -22.507     0       0.0448   46.718               4    0.800   \n",
       "1    0.2460    -9.200     1       0.0376   93.050               4    0.677   \n",
       "2    0.2170    -5.175     1       0.0364  133.519               4    0.257   \n",
       "3    0.0699    -7.823     1       0.0380  131.196               4    0.776   \n",
       "4    0.2130    -8.558     1       0.0413  106.463               4    0.644   \n",
       "\n",
       "   top_song  \n",
       "0         0  \n",
       "1         0  \n",
       "2         0  \n",
       "3         1  \n",
       "4         0  \n",
       "\n",
       "[5 rows x 21 columns]"
      ]
     },
     "execution_count": 19,
     "metadata": {},
     "output_type": "execute_result"
    }
   ],
   "source": [
    "dataset = pd.read_csv(\"spotifyTOP.csv\") \n",
    "dataset.head()"
   ]
  },
  {
   "cell_type": "code",
   "execution_count": 23,
   "metadata": {},
   "outputs": [],
   "source": [
    "# input \n",
    "x = dataset.iloc[:, [5, 7, 8, 9, 10, 11, 12, 13, 14, 15, 16, 17, 18, 19]].values \n",
    "  \n",
    "# output \n",
    "y = dataset.iloc[:, 20].values \n",
    "\n"
   ]
  },
  {
   "cell_type": "code",
   "execution_count": 24,
   "metadata": {},
   "outputs": [],
   "source": [
    "from sklearn.model_selection import train_test_split\n",
    "xtrain, xtest, ytrain, ytest = train_test_split( \n",
    "        x, y, test_size = 0.25, random_state = 0) "
   ]
  },
  {
   "cell_type": "code",
   "execution_count": 25,
   "metadata": {},
   "outputs": [
    {
     "name": "stdout",
     "output_type": "stream",
     "text": [
      "[[ 0.85350881 -0.56334569  0.22779174  1.80896644 -0.10954449 -0.36239066\n",
      "   1.33329593 -0.47630797  0.28844996 -1.53727964 -0.44194756  0.25872534\n",
      "   0.2228123  -0.75029814]\n",
      " [-1.38339686 -0.86748186  0.32898064  0.24706331  1.33352586  0.60517573\n",
      "  -0.35896429 -0.94457287 -0.32025133 -1.53727964 -0.57347392 -0.38153945\n",
      "   0.2228123   1.33966401]\n",
      " [-1.21770015  2.11586939  0.08163    -1.6566804  -1.9434464  -0.36239066\n",
      "  -0.35896429  1.80399435 -2.05247483  0.65049973  2.96195457 -1.23403949\n",
      "  -2.37718979  0.81618203]\n",
      " [-1.13485179 -0.91522253 -2.26257941 -0.03592526  1.41512806 -0.36238246\n",
      "   0.48716582  0.87902665 -0.52431078  0.65049973 -0.18310369  1.31340395\n",
      "   0.2228123  -1.3491298 ]\n",
      " [-0.96915507 -0.65254108  0.00854913  0.09660278  1.16602663 -0.36239066\n",
      "  -0.35896429 -0.04594105  0.6902667   0.65049973 -0.55874297  0.30006224\n",
      "   0.2228123   1.00653911]\n",
      " [ 0.85350881 -0.91211645 -0.3399904  -0.44697509  1.26051338  2.73292587\n",
      "  -0.92305103 -0.33499346  0.05201047  0.65049973 -0.51244569  0.87499122\n",
      "   0.2228123   1.51812377]\n",
      " [-1.30054851 -0.73637134  0.34022385 -1.35767927 -0.19973639 -0.3623524\n",
      "  -0.35896429 -0.88547771 -0.76009832  0.65049973 -0.52507222 -0.02295982\n",
      "   0.2228123   1.74417281]\n",
      " [ 0.2735703   1.00595676  1.52638256 -0.35547105 -0.87832304  2.90762536\n",
      "  -0.07692092 -0.59963699 -0.38414215  0.65049973 -0.43247767 -0.48860397\n",
      "   0.2228123  -0.88116864]\n",
      " [ 1.51629567  0.39902569 -0.64917869 -0.16810066  0.0622496  -0.36036145\n",
      "  -1.48713777 -0.57779748  0.7054788   0.65049973 -0.58189161 -1.37695545\n",
      "   0.2228123  -0.89703173]\n",
      " [-0.80345836 -0.51640074  1.20595106  2.07174995 -0.2255055  -0.36239066\n",
      "  -1.2050944   0.67990166 -0.64752879  0.65049973  3.96155489  0.02575633\n",
      "   0.2228123   0.44736518]]\n"
     ]
    }
   ],
   "source": [
    "from sklearn.preprocessing import StandardScaler \n",
    "sc_x = StandardScaler() \n",
    "xtrain = sc_x.fit_transform(xtrain)  \n",
    "xtest = sc_x.transform(xtest) \n",
    "  \n",
    "print (xtrain[0:10, :]) "
   ]
  },
  {
   "cell_type": "code",
   "execution_count": 26,
   "metadata": {},
   "outputs": [
    {
     "name": "stderr",
     "output_type": "stream",
     "text": [
      "C:\\ProgramData\\Anaconda3\\lib\\site-packages\\sklearn\\linear_model\\logistic.py:432: FutureWarning: Default solver will be changed to 'lbfgs' in 0.22. Specify a solver to silence this warning.\n",
      "  FutureWarning)\n"
     ]
    },
    {
     "data": {
      "text/plain": [
       "LogisticRegression(C=1.0, class_weight=None, dual=False, fit_intercept=True,\n",
       "                   intercept_scaling=1, l1_ratio=None, max_iter=100,\n",
       "                   multi_class='warn', n_jobs=None, penalty='l2',\n",
       "                   random_state=0, solver='warn', tol=0.0001, verbose=0,\n",
       "                   warm_start=False)"
      ]
     },
     "execution_count": 26,
     "metadata": {},
     "output_type": "execute_result"
    }
   ],
   "source": [
    "from sklearn.linear_model import LogisticRegression \n",
    "classifier = LogisticRegression(random_state = 0) \n",
    "classifier.fit(xtrain, ytrain) "
   ]
  },
  {
   "cell_type": "code",
   "execution_count": 27,
   "metadata": {},
   "outputs": [],
   "source": [
    "y_pred = classifier.predict(xtest) "
   ]
  },
  {
   "cell_type": "code",
   "execution_count": 28,
   "metadata": {},
   "outputs": [
    {
     "name": "stdout",
     "output_type": "stream",
     "text": [
      "Confusion Matrix : \n",
      " [[2296    3]\n",
      " [ 451    0]]\n"
     ]
    }
   ],
   "source": [
    "from sklearn.metrics import confusion_matrix \n",
    "cm = confusion_matrix(ytest, y_pred) \n",
    "  \n",
    "print (\"Confusion Matrix : \\n\", cm) "
   ]
  },
  {
   "cell_type": "code",
   "execution_count": 29,
   "metadata": {},
   "outputs": [
    {
     "name": "stdout",
     "output_type": "stream",
     "text": [
      "Accuracy :  0.8349090909090909\n"
     ]
    }
   ],
   "source": [
    "from sklearn.metrics import accuracy_score \n",
    "print (\"Accuracy : \", accuracy_score(ytest, y_pred)) "
   ]
  },
  {
   "cell_type": "code",
   "execution_count": 17,
   "metadata": {},
   "outputs": [
    {
     "ename": "NameError",
     "evalue": "name 'sklearn' is not defined",
     "output_type": "error",
     "traceback": [
      "\u001b[1;31m---------------------------------------------------------------------------\u001b[0m",
      "\u001b[1;31mNameError\u001b[0m                                 Traceback (most recent call last)",
      "\u001b[1;32m<ipython-input-17-55e7a0562ad6>\u001b[0m in \u001b[0;36m<module>\u001b[1;34m\u001b[0m\n\u001b[1;32m----> 1\u001b[1;33m \u001b[0msklearn\u001b[0m\u001b[1;33m.\u001b[0m\u001b[0mmetrics\u001b[0m\u001b[1;33m\u001b[0m\u001b[1;33m\u001b[0m\u001b[0m\n\u001b[0m",
      "\u001b[1;31mNameError\u001b[0m: name 'sklearn' is not defined"
     ]
    }
   ],
   "source": [
    "\n"
   ]
  },
  {
   "cell_type": "code",
   "execution_count": null,
   "metadata": {},
   "outputs": [],
   "source": []
  }
 ],
 "metadata": {
  "kernelspec": {
   "display_name": "Python 3",
   "language": "python",
   "name": "python3"
  },
  "language_info": {
   "codemirror_mode": {
    "name": "ipython",
    "version": 3
   },
   "file_extension": ".py",
   "mimetype": "text/x-python",
   "name": "python",
   "nbconvert_exporter": "python",
   "pygments_lexer": "ipython3",
   "version": "3.7.3"
  }
 },
 "nbformat": 4,
 "nbformat_minor": 2
}
