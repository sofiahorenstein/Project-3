{
 "cells": [
  {
   "cell_type": "code",
   "execution_count": null,
   "metadata": {},
   "outputs": [],
   "source": [
    "import pandas as pd\n",
    "import billboard"
   ]
  },
  {
   "cell_type": "code",
   "execution_count": null,
   "metadata": {},
   "outputs": [],
   "source": [
    "billboardDF = pd.DataFrame(columns=['song', 'artist', 'year'])\n",
    "year = 2000"
   ]
  },
  {
   "cell_type": "code",
   "execution_count": null,
   "metadata": {},
   "outputs": [],
   "source": [
    "\n",
    "months = ['01','02','03']\n",
    "yyyy=str(year)\n",
    "m=0\n",
    "while m<len(months): \n",
    "        \n",
    "    mm=months[m]\n",
    "    chart = billboard.ChartData('hot-100', date= yyyy+'-'+ mm + '-01', timeout=25)\n",
    "    i=0\n",
    "    while i<len(chart.entries):\n",
    "        billboardDF = billboardDF.append({'song':chart.entries[i].title, 'artist':chart.entries[i].artist, 'year':year}, ignore_index=True)\n",
    "        i=i+1\n",
    "    m=m+1\n",
    "    \n"
   ]
  },
  {
   "cell_type": "code",
   "execution_count": null,
   "metadata": {},
   "outputs": [],
   "source": [
    "months = ['04','05','06']\n",
    "yyyy=str(year)\n",
    "m=0\n",
    "while m<len(months): \n",
    "        \n",
    "    mm=months[m]\n",
    "    chart = billboard.ChartData('hot-100', date= yyyy+'-'+ mm + '-01', timeout=25)\n",
    "    i=0\n",
    "    while i<len(chart.entries):\n",
    "        billboardDF = billboardDF.append({'song':chart.entries[i].title, 'artist':chart.entries[i].artist, 'year':year}, ignore_index=True)\n",
    "        i=i+1\n",
    "    m=m+1\n",
    "    "
   ]
  },
  {
   "cell_type": "code",
   "execution_count": null,
   "metadata": {},
   "outputs": [],
   "source": [
    "months = ['07','08','09']\n",
    "yyyy=str(year)\n",
    "m=0\n",
    "while m<len(months): \n",
    "        \n",
    "    mm=months[m]\n",
    "    chart = billboard.ChartData('hot-100', date= yyyy+'-'+ mm + '-01', timeout=25)\n",
    "    i=0\n",
    "    while i<len(chart.entries):\n",
    "        billboardDF = billboardDF.append({'song':chart.entries[i].title, 'artist':chart.entries[i].artist, 'year':year}, ignore_index=True)\n",
    "        i=i+1\n",
    "    m=m+1"
   ]
  },
  {
   "cell_type": "code",
   "execution_count": null,
   "metadata": {},
   "outputs": [],
   "source": [
    "months = ['10','11','12']\n",
    "yyyy=str(year)\n",
    "m=0\n",
    "while m<len(months): \n",
    "        \n",
    "    mm=months[m]\n",
    "    chart = billboard.ChartData('hot-100', date= yyyy+'-'+ mm + '-01', timeout=25)\n",
    "    i=0\n",
    "    while i<len(chart.entries):\n",
    "        billboardDF = billboardDF.append({'song':chart.entries[i].title, 'artist':chart.entries[i].artist, 'year':year}, ignore_index=True)\n",
    "        i=i+1\n",
    "    m=m+1\n"
   ]
  },
  {
   "cell_type": "code",
   "execution_count": null,
   "metadata": {},
   "outputs": [],
   "source": [
    "billboardDF "
   ]
  },
  {
   "cell_type": "code",
   "execution_count": null,
   "metadata": {},
   "outputs": [],
   "source": [
    "billboardDF.to_csv('billboard2000.csv')"
   ]
  },
  {
   "cell_type": "code",
   "execution_count": null,
   "metadata": {},
   "outputs": [],
   "source": []
  }
 ],
 "metadata": {
  "kernelspec": {
   "display_name": "Python 3",
   "language": "python",
   "name": "python3"
  },
  "language_info": {
   "codemirror_mode": {
    "name": "ipython",
    "version": 3
   },
   "file_extension": ".py",
   "mimetype": "text/x-python",
   "name": "python",
   "nbconvert_exporter": "python",
   "pygments_lexer": "ipython3",
   "version": "3.7.3"
  }
 },
 "nbformat": 4,
 "nbformat_minor": 2
}
